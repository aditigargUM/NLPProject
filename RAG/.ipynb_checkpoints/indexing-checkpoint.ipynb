{
 "cells": [
  {
   "cell_type": "code",
   "execution_count": 41,
   "id": "39f0fdde-39d6-4eab-a56d-17c8370da6e9",
   "metadata": {},
   "outputs": [],
   "source": [
    "from sentence_transformers import SentenceTransformer, models\n",
    "import pickle\n",
    "import jsonlines\n",
    "import time\n",
    "import datasets\n",
    "from datasets import Features, Sequence, Value, load_dataset, Dataset, load_from_disk\n",
    "import pandas as pd\n",
    "import faiss"
   ]
  },
  {
   "cell_type": "code",
   "execution_count": 42,
   "id": "51e3fbbc-5443-4674-b9b7-10781f00a29c",
   "metadata": {},
   "outputs": [],
   "source": [
    "base_path = './'\n",
    "\n",
    "base_out_path = base_path + 'corpus/'\n",
    "\n",
    "collection_in_file = base_path + 'passages.pickle'\n",
    "\n",
    "doc_id_to_index_out_file = base_out_path + 'doc_id_to_index.pickle'\n",
    "doc_index_to_id_out_file = base_out_path + 'doc_index_to_id.pickle'\n",
    "doc_embeddings_file = base_out_path + 'doc_reps.pickle'\n",
    "\n",
    "dataset_path = base_out_path + 'marco_subsampled_dataset'\n",
    "index_path = base_out_path + 'marco_faiss_index'\n",
    "\n",
    "inference_batch_size = 512"
   ]
  },
  {
   "cell_type": "code",
   "execution_count": 43,
   "id": "6747785d-bafa-4e6a-8e29-15cc2a883b2c",
   "metadata": {},
   "outputs": [],
   "source": [
    "def read_pickle(input_file):\n",
    "    with open(input_file, 'rb') as f:\n",
    "       out = pickle.load(f)\n",
    "    f.close()\n",
    "    return out\n",
    "\n",
    "def write_pickle(output, output_file):\n",
    "    with open(output_file, 'wb') as f:\n",
    "       pickle.dump(output, f, protocol=pickle.HIGHEST_PROTOCOL)\n",
    "    f.close()"
   ]
  },
  {
   "cell_type": "code",
   "execution_count": 4,
   "id": "9e0915ce-f6b1-448c-a85c-ccf1e3c22d48",
   "metadata": {},
   "outputs": [
    {
     "data": {
      "text/plain": [
       "'\\ndef write_id_maps_collection(collection_file, doc_list_file, id_to_index_out_file, index_to_id_out_file):\\n    in_file = jsonlines.open(collection_file, \\'r\\')\\n\\n    index_to_id_map = {}\\n    id_to_index_map = {}\\n    doc_list = []\\n\\n    index = 0\\n    for obj in in_file:\\n        doc_id = obj[\"id\"]\\n        doc_content = obj[\"contents\"]\\n        doc_list.append(doc_content)\\n\\n        index_to_id_map[index] = int(doc_id)\\n        id_to_index_map[int(doc_id)] = index\\n\\n        index = index + 1\\n\\n    write_pickle(doc_list, doc_list_file)\\n    write_pickle(id_to_index_map, id_to_index_out_file)\\n    write_pickle(index_to_id_map, index_to_id_out_file)\\n    \\n    return (doc_list, id_to_index_map, index_to_id_map)\\n'"
      ]
     },
     "execution_count": 4,
     "metadata": {},
     "output_type": "execute_result"
    }
   ],
   "source": [
    "'''\n",
    "def write_id_maps_collection(collection_file, doc_list_file, id_to_index_out_file, index_to_id_out_file):\n",
    "    in_file = jsonlines.open(collection_file, 'r')\n",
    "\n",
    "    index_to_id_map = {}\n",
    "    id_to_index_map = {}\n",
    "    doc_list = []\n",
    "\n",
    "    index = 0\n",
    "    for obj in in_file:\n",
    "        doc_id = obj[\"id\"]\n",
    "        doc_content = obj[\"contents\"]\n",
    "        doc_list.append(doc_content)\n",
    "\n",
    "        index_to_id_map[index] = int(doc_id)\n",
    "        id_to_index_map[int(doc_id)] = index\n",
    "\n",
    "        index = index + 1\n",
    "\n",
    "    write_pickle(doc_list, doc_list_file)\n",
    "    write_pickle(id_to_index_map, id_to_index_out_file)\n",
    "    write_pickle(index_to_id_map, index_to_id_out_file)\n",
    "    \n",
    "    return (doc_list, id_to_index_map, index_to_id_map)\n",
    "'''"
   ]
  },
  {
   "cell_type": "code",
   "execution_count": 5,
   "id": "a1211a25-3b5f-4a40-8467-b065fca0ef78",
   "metadata": {},
   "outputs": [],
   "source": [
    "def generate_embeddings(doc_list_file, doc_embeddings_out_file, inference_batch_size):   \n",
    "    starttime = time.time()\n",
    "    \n",
    "    sentbert_model = initialize_model()\n",
    "    \n",
    "    with open(doc_list_file, 'rb') as f:\n",
    "       doc_list = pickle.load(f)\n",
    "    f.close()\n",
    "    \n",
    "    total_docs = len(doc_list)\n",
    "    print(\"Total #docs: \", total_docs)\n",
    "    \n",
    "    # Go over documents and form sb reps for documents.\n",
    "    document_vectors = sentbert_model.encode(doc_list, show_progress_bar=True, batch_size=inference_batch_size)\n",
    "    print('Encoded documents: {:}'.format(document_vectors.shape))\n",
    "    \n",
    "    ## To save in file\n",
    "    with open(doc_embeddings_out_file, 'wb') as f:\n",
    "       pickle.dump(document_vectors, f, protocol=pickle.HIGHEST_PROTOCOL)\n",
    "    f.close()\n",
    "    \n",
    "    del doc_list\n",
    "    del document_vectors\n",
    "    \n",
    "    endtime = time.time()\n",
    "    print(\"Total time taken in hours: \" + str((endtime-starttime)/3600))\n",
    "    \n",
    "def initialize_model():\n",
    "    sentbert_model = SentenceTransformer('sentence-transformers/msmarco-distilbert-base-tas-b')\n",
    "    return sentbert_model"
   ]
  },
  {
   "cell_type": "code",
   "execution_count": 6,
   "id": "be58e267-04e2-45a4-98f3-8ddd618fd444",
   "metadata": {},
   "outputs": [],
   "source": [
    "# generate_embeddings(collection_in_file, doc_embeddings_file, inference_batch_size)"
   ]
  },
  {
   "cell_type": "code",
   "execution_count": 44,
   "id": "b67edc7a-ac3a-4bc8-b5c3-0d1746962e71",
   "metadata": {},
   "outputs": [],
   "source": [
    "embs = read_pickle(doc_embeddings_file)\n",
    "\n",
    "docs = read_pickle(collection_in_file)"
   ]
  },
  {
   "cell_type": "code",
   "execution_count": 45,
   "id": "46cac655-09f3-48ea-80c6-ade018781eec",
   "metadata": {},
   "outputs": [],
   "source": [
    "embs_list = []\n",
    "for i in range(embs.shape[0]):\n",
    "    embs_list.append(embs[i, :])"
   ]
  },
  {
   "cell_type": "code",
   "execution_count": 49,
   "id": "d30b93af-392c-47c8-b537-b5f078a5e5d2",
   "metadata": {},
   "outputs": [
    {
     "name": "stdout",
     "output_type": "stream",
     "text": [
      "Dataset({\n",
      "    features: ['text'],\n",
      "    num_rows: 1550080\n",
      "})\n"
     ]
    },
    {
     "data": {
      "application/vnd.jupyter.widget-view+json": {
       "model_id": "2f5705a36b194bb6b1a8691d21650fc8",
       "version_major": 2,
       "version_minor": 0
      },
      "text/plain": [
       "Saving the dataset (0/11 shards):   0%|          | 0/1550080 [00:00<?, ? examples/s]"
      ]
     },
     "metadata": {},
     "output_type": "display_data"
    }
   ],
   "source": [
    "chunked_corpus = {\"text\" : docs}\n",
    "df = pd.DataFrame(chunked_corpus)\n",
    "dataset = Dataset.from_pandas(df)\n",
    "print(dataset)\n",
    "\n",
    "dataset = dataset.add_column(\"embeddings\", embs_list)\n",
    "dataset\n",
    "\n",
    "dataset.save_to_disk(dataset_path)"
   ]
  },
  {
   "cell_type": "code",
   "execution_count": 50,
   "id": "5847ba77-d530-4b41-88c5-e3c78d935258",
   "metadata": {},
   "outputs": [
    {
     "data": {
      "application/vnd.jupyter.widget-view+json": {
       "model_id": "cfc2d2071b704e839cde65dea657ec33",
       "version_major": 2,
       "version_minor": 0
      },
      "text/plain": [
       "  0%|          | 0/1551 [00:00<?, ?it/s]"
      ]
     },
     "metadata": {},
     "output_type": "display_data"
    }
   ],
   "source": [
    "index = faiss.IndexHNSWFlat(embs.shape[1], 10, faiss.METRIC_INNER_PRODUCT) \n",
    "# not clear what 2nd argument is, says number of nearest neighbors\n",
    "dataset.add_faiss_index(\"embeddings\", custom_index=index)\n",
    "\n",
    "# And save the index\n",
    "dataset.get_index(\"embeddings\").save(index_path)"
   ]
  },
  {
   "cell_type": "code",
   "execution_count": 36,
   "id": "13fb8105-90ae-4260-a49a-4a752f00ea23",
   "metadata": {},
   "outputs": [],
   "source": [
    "# dataset2 = load_from_disk(dataset_path)  # to reload the dataset\n",
    "# index2 = dataset2.load_faiss_index(\"embeddings\", index_path)  # to reload the index"
   ]
  },
  {
   "cell_type": "code",
   "execution_count": null,
   "id": "98b9e5b9-da54-47f3-9e12-0bf4f1b7db6a",
   "metadata": {},
   "outputs": [],
   "source": []
  }
 ],
 "metadata": {
  "kernelspec": {
   "display_name": "Python (.conda-cont-base)",
   "language": "python",
   "name": "conda-env-.conda-cont-base-py"
  },
  "language_info": {
   "codemirror_mode": {
    "name": "ipython",
    "version": 3
   },
   "file_extension": ".py",
   "mimetype": "text/x-python",
   "name": "python",
   "nbconvert_exporter": "python",
   "pygments_lexer": "ipython3",
   "version": "3.10.10"
  }
 },
 "nbformat": 4,
 "nbformat_minor": 5
}
