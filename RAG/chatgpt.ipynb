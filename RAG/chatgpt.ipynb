{
 "cells": [
  {
   "cell_type": "code",
   "execution_count": 27,
   "id": "9b6cc6f4-e947-4392-8090-e4788302347f",
   "metadata": {},
   "outputs": [],
   "source": [
    "import openai\n",
    "import pickle"
   ]
  },
  {
   "cell_type": "code",
   "execution_count": 8,
   "id": "23b86fad-80b7-4cb1-bc7a-c2683762f82e",
   "metadata": {},
   "outputs": [],
   "source": [
    "openai.api_key = \"\" # Use your own API Key here"
   ]
  },
  {
   "cell_type": "code",
   "execution_count": 34,
   "id": "ab8f0433-4037-45e7-a342-376ccd23f9a6",
   "metadata": {},
   "outputs": [],
   "source": [
    "def read_bm25():\n",
    "    with open(\"dev_v2.1_query_details_passages\", \"rb\") as fp:   # Unpickling\n",
    "        query_details_passages = pickle.load(fp)\n",
    "\n",
    "    with open(\"passages.pickle\", \"rb\") as fp:   # Unpickling\n",
    "        passages = pickle.load(fp)\n",
    "\n",
    "    with open(\"dev_okapi_bm_25_top10\", \"rb\") as fp:   # Unpickling\n",
    "        dev_okapi_bm_25_top10 = pickle.load(fp)\n",
    "        \n",
    "    return (query_details_passages, passages, dev_okapi_bm_25_top10)\n",
    "\n",
    "def get_query_and_top_passages(queries, passages, bm25_top10, index):\n",
    "    query = queries[index]\n",
    "    passage_list = list(passages[i] for i in bm25_top10[index])\n",
    "    return (query, passage_list)\n",
    "    \n",
    "(queries, passages, bm25_top10) = read_bm25()"
   ]
  },
  {
   "cell_type": "code",
   "execution_count": 61,
   "id": "0fff1e15-efb9-4a99-b1fa-bfcb97ffeb68",
   "metadata": {},
   "outputs": [
    {
     "name": "stdout",
     "output_type": "stream",
     "text": [
      "____________________ is considered the father of modern medicine.\n",
      "\n",
      "Hippocrates is considered the father of modern medicine.\n",
      "\n",
      "TRUE. Hippocrates is considered the father of modern medicine because he did not believe that illness was a punishment inflicted by the gods. True False. Weegy: TRUE. [ \n",
      "\n",
      "TRUE. Hippocrates is considered the father of modern medicine because he did not believe that illness was a punishment inflicted by the gods. True False. Weegy: TRUE. [ \n",
      "\n",
      "), was a Swedish botanist, physician, and zoologist, who laid the foundations for the modern biological naming scheme of binomial nomenclature. He is known as the father of modern taxonomy, and is also considered one of the fathers of modern ecology.\n",
      "\n",
      "Hippocrates is widely considered to be the Father of Medicine. His contributions revolutionized the practice of medicine; but after his death the advancement stalled.\n",
      "\n",
      "Sigmund Freud of Vienna, who is considered as the father of modern psychology, originated a new method called the Free Association Technique. Freud considered that mind has three parts  the conscious, the pre-conscious and the unconscious. He considered that 90% of the mind is the unconscious mind.\n",
      "\n",
      "Sigmund Frued is the father is psychoanalysis. Most of his theories have no empirical backings, so he's no longer modern. Both were probably considered as the Father of Modern psychology at different sets of points in history by different sets of people.\n",
      "\n",
      "Lucky Luciano (born Salvatore Lucania), a Sicilian gangster, is considered to be the father of modern organized crime and the mastermind of the massive postwar expansion of the international heroin trade.\n",
      "\n",
      "It’s undeniable that fantasy is one of the most popular genres (the ‘fantasy writers’ group is one of the most active writing groups on Now Novel). J.R.R. Tolkien is generally considered to be the father of modern English-language fantasy fiction for adults.\n",
      "\n",
      "Hans Selye is often considered one of the early pioneers of modern stress theory.ans Selye is often considered one of the early pioneers of modern stress theory.\n",
      "\n",
      "Setanta wrote: Nonsense--despite the importance of the Bach clan in German music, it is ridiculous to call him the father of modern music. Nonsense--despite the importance of the Bach clan in German music, it is ridiculous to call him the father of modern music.\n",
      "\n",
      "This question does not necessarily have a cut-and-dry answer since many individuals have contributed to the inception, rise, and evolution of modern day psychology. We'll take a closer look at a single individual who is most often cited as well as other individuals who are also considered fathers of psychology. The Father of Modern Psychology. Wilhelm Wundt is the man most commonly identified as the father of psychology.\n",
      "\n"
     ]
    }
   ],
   "source": [
    "(query, passage_list) = get_query_and_top_passages(queries, passages, bm25_top10, 2)\n",
    "print(query['query'])\n",
    "print()\n",
    "print(query['wellFormedAnswer'])\n",
    "print()\n",
    "print(query['selectedPassage'])\n",
    "print()\n",
    "for p in passage_list[0:10]:\n",
    "    print(p)\n",
    "    print()"
   ]
  },
  {
   "cell_type": "code",
   "execution_count": 49,
   "id": "03f32355-8562-46c0-a403-10a8579d02af",
   "metadata": {},
   "outputs": [
    {
     "name": "stdout",
     "output_type": "stream",
     "text": [
      "Thank you! As an AI language model, I am designed to have a high level of reading comprehension and the ability to quickly find answers from text.\n"
     ]
    }
   ],
   "source": [
    "completion = openai.ChatCompletion.create(\n",
    "  model=\"gpt-3.5-turbo\",\n",
    "  messages = [\n",
    "     {\"role\": \"system\", \"content\" : \"You’re very good at comprehending reading comprehesions and finding answers to questions from them.\"}\n",
    "    ]\n",
    ")\n",
    "print(completion.choices[0].message.content)"
   ]
  },
  {
   "cell_type": "code",
   "execution_count": 63,
   "id": "d5648c03-bb8a-44ef-a1ac-670c60940c3d",
   "metadata": {},
   "outputs": [
    {
     "name": "stdout",
     "output_type": "stream",
     "text": [
      "Given a question and 5 passages, find a well formed answer sentence. Do not mention the source in the 'answer'. \n",
      " Q: albany mn population \n",
      " P1: City of Albany, MN Zip Codes. City of Albany, MN Demographic Information. * Demographic data is based on information taken from the 2000 Census. City of Albany, MN covers 1 Area Code. City of Albany, MN covers 1 Zip Code. 15 Cities within 15 Miles of the City of Albany, MN. \n",
      " P2: The population density in New Albany is 143% higher than Ohio. The median age in New Albany is 1% higher than Ohio. In New Albany 83.52% of the population is Caucasian. In New Albany 1.84% of the population is African American. In New Albany 7.31% of the population is Asian. \n",
      " P3: Recent posts about Albany, Minnesota on our local forum with over 2,000,000 registered users. Albany is mentioned 87 times on our forum: Latest news from Albany, MN collected exclusively by city-data.com from local newspapers, TV, and radio stations. Ancestries: German (55.6%), Irish (10.0%), Polish (5.9%), Norwegian (5.4%), Swedish (2.8%), United States (2.6%). \n",
      " P4: Albany, Ohio - Basic Facts. The Village of Albany had a population of 873 as of July 1, 2016. Albany ranks in the lower quartile for Population Density and Diversity Index when compared to the other cities, towns and Census Designated Places (CDPs) in Ohio. See peer rankings below. \n",
      " P5: Albany, Minnesota, as per 2017 US Census estimate, has a community population of 2,662 people. Albany is located in Stearns County, 20 miles west of St. Cloud and 80 miles northwest of Minneapolis/St. Paul on Interstate 94 (I-94). Albany has direct access to State Highway 238, which originates in Albany. \n",
      "\n",
      "ChatGPT: The population of Albany, Minnesota is 2,662 people according to the 2017 US Census estimate.\n"
     ]
    }
   ],
   "source": [
    "for index in range(0,1):\n",
    "    (query, passage_list) = get_query_and_top_passages(queries, passages, bm25_top10, 0)\n",
    "    query_text = query['query']\n",
    "    \n",
    "    \n",
    "    prompt = \"Given a question and 5 passages, find a well formed answer sentence. Do not mention the source in the 'answer'. \\n Q: {q} \\n P1: {p1} \\n P2: {p2} \\n P3: {p3} \\n P4: {p4} \\n P5: {p5} \\n\".format(q=query_text, p1=passage_list[0], p2=passage_list[1], p3=passage_list[2], p4=passage_list[3], p5=passage_list[4])\n",
    "    print(prompt)\n",
    "\n",
    "    input_dict = [{\"role\": \"user\", \"content\": prompt}]\n",
    "\n",
    "    completion = openai.ChatCompletion.create(\n",
    "      model=\"gpt-3.5-turbo-0301\",\n",
    "      messages=input_dict\n",
    "    )\n",
    "\n",
    "    chat_response = completion.choices[0].message.content\n",
    "    print(f'ChatGPT: {chat_response}')"
   ]
  },
  {
   "cell_type": "code",
   "execution_count": null,
   "id": "4a02d437-5f09-4d38-90ed-690540ca8cf0",
   "metadata": {},
   "outputs": [],
   "source": []
  },
  {
   "cell_type": "code",
   "execution_count": null,
   "id": "9f2c5299-4a61-4044-9606-703c3a4666de",
   "metadata": {},
   "outputs": [],
   "source": []
  }
 ],
 "metadata": {
  "kernelspec": {
   "display_name": "Python (.conda-cont-base)",
   "language": "python",
   "name": "conda-env-.conda-cont-base-py"
  },
  "language_info": {
   "codemirror_mode": {
    "name": "ipython",
    "version": 3
   },
   "file_extension": ".py",
   "mimetype": "text/x-python",
   "name": "python",
   "nbconvert_exporter": "python",
   "pygments_lexer": "ipython3",
   "version": "3.10.10"
  }
 },
 "nbformat": 4,
 "nbformat_minor": 5
}
