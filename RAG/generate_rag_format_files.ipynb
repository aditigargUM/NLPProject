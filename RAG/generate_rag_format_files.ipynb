{
 "cells": [
  {
   "cell_type": "code",
   "execution_count": 8,
   "id": "ef2bb19a-190b-4f83-bc85-990f90daab24",
   "metadata": {},
   "outputs": [],
   "source": [
    "import json\n",
    "import pickle\n",
    "\n",
    "file_path = '/work/pi_mccallum_umass_edu/gdhanania_umass_edu/ret/ms_marco_data/'\n",
    "\n",
    "def prepare(f_name, split_name):\n",
    "\n",
    "    open(split_name + '.source', 'w').close()\n",
    "    open(split_name + '.target', 'w').close()\n",
    "\n",
    "    with open(split_name + '.source', 'a') as output_source, open(split_name + '.target', 'a') as output_target:\n",
    "        pickle_file = open(f_name, 'rb')\n",
    "        unpickled = pickle.load(pickle_file)\n",
    "        print(len(unpickled))\n",
    "        \n",
    "        index = 0\n",
    "        for item in unpickled:\n",
    "            index = index + 1\n",
    "            output_source.write(item['query'] + '?\\n')\n",
    "            output_target.write(item['wellFormedAnswer'] + '\\n')\n",
    "            if index == 2:\n",
    "                break\n",
    "            "
   ]
  },
  {
   "cell_type": "code",
   "execution_count": 7,
   "id": "5acb80a2-9597-4c1c-9c6d-719be45f76b5",
   "metadata": {},
   "outputs": [
    {
     "name": "stdout",
     "output_type": "stream",
     "text": [
      "13000\n"
     ]
    }
   ],
   "source": [
    "prepare(file_path + 'train.pickle', 'train')"
   ]
  },
  {
   "cell_type": "code",
   "execution_count": 9,
   "id": "d8c0c950-dab3-418a-b361-a670c2cc2b82",
   "metadata": {},
   "outputs": [
    {
     "name": "stdout",
     "output_type": "stream",
     "text": [
      "2000\n"
     ]
    }
   ],
   "source": [
    "prepare(file_path + 'val.pickle', 'val')"
   ]
  },
  {
   "cell_type": "code",
   "execution_count": null,
   "id": "57ba9705-f56b-4b42-8a17-b70c3039a11c",
   "metadata": {},
   "outputs": [],
   "source": [
    "prepare(file_path + 'test.pickle', 'test')"
   ]
  }
 ],
 "metadata": {
  "kernelspec": {
   "display_name": "Python (.conda-cont-base)",
   "language": "python",
   "name": "conda-env-.conda-cont-base-py"
  },
  "language_info": {
   "codemirror_mode": {
    "name": "ipython",
    "version": 3
   },
   "file_extension": ".py",
   "mimetype": "text/x-python",
   "name": "python",
   "nbconvert_exporter": "python",
   "pygments_lexer": "ipython3",
   "version": "3.10.10"
  }
 },
 "nbformat": 4,
 "nbformat_minor": 5
}
